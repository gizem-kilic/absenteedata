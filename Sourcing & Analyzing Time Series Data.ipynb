{
 "cells": [
  {
   "cell_type": "code",
   "execution_count": 1,
   "id": "fb324dac-b634-4e97-93ad-bba0b0145493",
   "metadata": {},
   "outputs": [
    {
     "name": "stdout",
     "output_type": "stream",
     "text": [
      "Requirement already satisfied: Nasdaq-Data-Link in c:\\users\\gkgiz\\anaconda3\\lib\\site-packages (1.0.4)\n",
      "Requirement already satisfied: pandas>=0.14 in c:\\users\\gkgiz\\anaconda3\\lib\\site-packages (from Nasdaq-Data-Link) (2.2.2)\n",
      "Requirement already satisfied: numpy>=1.8 in c:\\users\\gkgiz\\anaconda3\\lib\\site-packages (from Nasdaq-Data-Link) (1.26.4)\n",
      "Requirement already satisfied: requests>=2.7.0 in c:\\users\\gkgiz\\anaconda3\\lib\\site-packages (from Nasdaq-Data-Link) (2.32.2)\n",
      "Requirement already satisfied: inflection>=0.3.1 in c:\\users\\gkgiz\\anaconda3\\lib\\site-packages (from Nasdaq-Data-Link) (0.5.1)\n",
      "Requirement already satisfied: python-dateutil in c:\\users\\gkgiz\\anaconda3\\lib\\site-packages (from Nasdaq-Data-Link) (2.9.0.post0)\n",
      "Requirement already satisfied: six in c:\\users\\gkgiz\\anaconda3\\lib\\site-packages (from Nasdaq-Data-Link) (1.16.0)\n",
      "Requirement already satisfied: more-itertools in c:\\users\\gkgiz\\anaconda3\\lib\\site-packages (from Nasdaq-Data-Link) (10.1.0)\n",
      "Requirement already satisfied: pytz>=2020.1 in c:\\users\\gkgiz\\anaconda3\\lib\\site-packages (from pandas>=0.14->Nasdaq-Data-Link) (2024.1)\n",
      "Requirement already satisfied: tzdata>=2022.7 in c:\\users\\gkgiz\\anaconda3\\lib\\site-packages (from pandas>=0.14->Nasdaq-Data-Link) (2023.3)\n",
      "Requirement already satisfied: charset-normalizer<4,>=2 in c:\\users\\gkgiz\\anaconda3\\lib\\site-packages (from requests>=2.7.0->Nasdaq-Data-Link) (2.0.4)\n",
      "Requirement already satisfied: idna<4,>=2.5 in c:\\users\\gkgiz\\anaconda3\\lib\\site-packages (from requests>=2.7.0->Nasdaq-Data-Link) (3.7)\n",
      "Requirement already satisfied: urllib3<3,>=1.21.1 in c:\\users\\gkgiz\\anaconda3\\lib\\site-packages (from requests>=2.7.0->Nasdaq-Data-Link) (2.2.2)\n",
      "Requirement already satisfied: certifi>=2017.4.17 in c:\\users\\gkgiz\\anaconda3\\lib\\site-packages (from requests>=2.7.0->Nasdaq-Data-Link) (2024.8.30)\n",
      "Note: you may need to restart the kernel to use updated packages.\n"
     ]
    }
   ],
   "source": [
    "pip install Nasdaq-Data-Link"
   ]
  },
  {
   "cell_type": "code",
   "execution_count": 9,
   "id": "78e5175d-17b7-447c-ae89-08e5e3838f7b",
   "metadata": {},
   "outputs": [],
   "source": [
    "import nasdaqdatalink as ndl"
   ]
  },
  {
   "cell_type": "code",
   "execution_count": 3,
   "id": "44a0b2ec-0a22-420f-99f2-059c3b012e29",
   "metadata": {},
   "outputs": [],
   "source": [
    "import quandl\n",
    "import pandas as pd\n",
    "import numpy as np\n",
    "import seaborn as sns\n",
    "import matplotlib\n",
    "import matplotlib.pyplot as plt\n",
    "import statsmodels.api as sm # Using .api imports the public access version of statsmodels, which is a library that handles \n",
    "# statistical models.\n",
    "import os\n",
    "import warnings # This is a library that handles warnings.\n",
    "\n",
    "warnings.filterwarnings(\"ignore\") # Disable deprecation warnings that could indicate, for instance, a suspended library or \n",
    "# feature. These are more relevant to developers and very seldom to analysts.\n",
    "\n",
    "plt.style.use('fivethirtyeight') # This is a styling option for how your plots will appear. More examples here:\n",
    "# https://matplotlib.org/3.2.1/tutorials/introductory/customizing.html\n",
    "# https://matplotlib.org/3.1.0/gallery/style_sheets/fivethirtyeight.html"
   ]
  },
  {
   "cell_type": "code",
   "execution_count": 27,
   "id": "60ed1cb4-16cf-40bc-82c3-e763bf90b23d",
   "metadata": {},
   "outputs": [],
   "source": [
    "# Set your API key\n",
    "ndl.ApiConfig.api_key = \"9YWun_MoLoMF_LsJcWJa\""
   ]
  },
  {
   "cell_type": "code",
   "execution_count": 55,
   "id": "cc8039db-03fc-4dac-8cf2-c281fca5e8b5",
   "metadata": {},
   "outputs": [],
   "source": [
    "df = pd.read_csv(r\"C:\\Users\\gkgiz\\Downloads\\WB_DATA_d950d0cd269a601150c0afd03b234ee2\\WB_DATA_d950d0cd269a601150c0afd03b234ee2.csv\")"
   ]
  },
  {
   "cell_type": "code",
   "execution_count": 64,
   "id": "6c0174e8-2b84-4743-bcd0-8e653e59a254",
   "metadata": {},
   "outputs": [
    {
     "data": {
      "text/html": [
       "<div>\n",
       "<style scoped>\n",
       "    .dataframe tbody tr th:only-of-type {\n",
       "        vertical-align: middle;\n",
       "    }\n",
       "\n",
       "    .dataframe tbody tr th {\n",
       "        vertical-align: top;\n",
       "    }\n",
       "\n",
       "    .dataframe thead th {\n",
       "        text-align: right;\n",
       "    }\n",
       "</style>\n",
       "<table border=\"1\" class=\"dataframe\">\n",
       "  <thead>\n",
       "    <tr style=\"text-align: right;\">\n",
       "      <th></th>\n",
       "      <th>series_id</th>\n",
       "      <th>country_code</th>\n",
       "      <th>country_name</th>\n",
       "      <th>year</th>\n",
       "      <th>value</th>\n",
       "    </tr>\n",
       "  </thead>\n",
       "  <tbody>\n",
       "    <tr>\n",
       "      <th>0</th>\n",
       "      <td>SP.POP.DPND</td>\n",
       "      <td>LCN</td>\n",
       "      <td>Latin America &amp; Caribbean</td>\n",
       "      <td>2003</td>\n",
       "      <td>58.587811</td>\n",
       "    </tr>\n",
       "    <tr>\n",
       "      <th>1</th>\n",
       "      <td>SP.POP.DPND</td>\n",
       "      <td>LDC</td>\n",
       "      <td>Least developed countries: UN classification</td>\n",
       "      <td>2003</td>\n",
       "      <td>86.452374</td>\n",
       "    </tr>\n",
       "    <tr>\n",
       "      <th>2</th>\n",
       "      <td>SP.POP.DPND</td>\n",
       "      <td>LIC</td>\n",
       "      <td>Low income</td>\n",
       "      <td>2003</td>\n",
       "      <td>93.776093</td>\n",
       "    </tr>\n",
       "    <tr>\n",
       "      <th>3</th>\n",
       "      <td>SP.POP.DPND</td>\n",
       "      <td>LIE</td>\n",
       "      <td>Liechtenstein</td>\n",
       "      <td>2003</td>\n",
       "      <td>40.606261</td>\n",
       "    </tr>\n",
       "    <tr>\n",
       "      <th>4</th>\n",
       "      <td>SP.POP.DPND</td>\n",
       "      <td>LKA</td>\n",
       "      <td>Sri Lanka</td>\n",
       "      <td>2003</td>\n",
       "      <td>50.005545</td>\n",
       "    </tr>\n",
       "  </tbody>\n",
       "</table>\n",
       "</div>"
      ],
      "text/plain": [
       "     series_id country_code                                  country_name  \\\n",
       "0  SP.POP.DPND          LCN                     Latin America & Caribbean   \n",
       "1  SP.POP.DPND          LDC  Least developed countries: UN classification   \n",
       "2  SP.POP.DPND          LIC                                    Low income   \n",
       "3  SP.POP.DPND          LIE                                 Liechtenstein   \n",
       "4  SP.POP.DPND          LKA                                     Sri Lanka   \n",
       "\n",
       "   year      value  \n",
       "0  2003  58.587811  \n",
       "1  2003  86.452374  \n",
       "2  2003  93.776093  \n",
       "3  2003  40.606261  \n",
       "4  2003  50.005545  "
      ]
     },
     "execution_count": 64,
     "metadata": {},
     "output_type": "execute_result"
    }
   ],
   "source": [
    "df.head()"
   ]
  },
  {
   "cell_type": "code",
   "execution_count": 272,
   "id": "cc125b35-272d-4969-a448-e95616561b2b",
   "metadata": {},
   "outputs": [
    {
     "ename": "KeyError",
     "evalue": "'country_name'",
     "output_type": "error",
     "traceback": [
      "\u001b[1;31m---------------------------------------------------------------------------\u001b[0m",
      "\u001b[1;31mKeyError\u001b[0m                                  Traceback (most recent call last)",
      "File \u001b[1;32m~\\anaconda3\\Lib\\site-packages\\pandas\\core\\indexes\\base.py:3805\u001b[0m, in \u001b[0;36mIndex.get_loc\u001b[1;34m(self, key)\u001b[0m\n\u001b[0;32m   3804\u001b[0m \u001b[38;5;28;01mtry\u001b[39;00m:\n\u001b[1;32m-> 3805\u001b[0m     \u001b[38;5;28;01mreturn\u001b[39;00m \u001b[38;5;28mself\u001b[39m\u001b[38;5;241m.\u001b[39m_engine\u001b[38;5;241m.\u001b[39mget_loc(casted_key)\n\u001b[0;32m   3806\u001b[0m \u001b[38;5;28;01mexcept\u001b[39;00m \u001b[38;5;167;01mKeyError\u001b[39;00m \u001b[38;5;28;01mas\u001b[39;00m err:\n",
      "File \u001b[1;32mindex.pyx:167\u001b[0m, in \u001b[0;36mpandas._libs.index.IndexEngine.get_loc\u001b[1;34m()\u001b[0m\n",
      "File \u001b[1;32mindex.pyx:196\u001b[0m, in \u001b[0;36mpandas._libs.index.IndexEngine.get_loc\u001b[1;34m()\u001b[0m\n",
      "File \u001b[1;32mpandas\\\\_libs\\\\hashtable_class_helper.pxi:7081\u001b[0m, in \u001b[0;36mpandas._libs.hashtable.PyObjectHashTable.get_item\u001b[1;34m()\u001b[0m\n",
      "File \u001b[1;32mpandas\\\\_libs\\\\hashtable_class_helper.pxi:7089\u001b[0m, in \u001b[0;36mpandas._libs.hashtable.PyObjectHashTable.get_item\u001b[1;34m()\u001b[0m\n",
      "\u001b[1;31mKeyError\u001b[0m: 'country_name'",
      "\nThe above exception was the direct cause of the following exception:\n",
      "\u001b[1;31mKeyError\u001b[0m                                  Traceback (most recent call last)",
      "Cell \u001b[1;32mIn[272], line 1\u001b[0m\n\u001b[1;32m----> 1\u001b[0m usa_data \u001b[38;5;241m=\u001b[39m df[df[\u001b[38;5;124m'\u001b[39m\u001b[38;5;124mcountry_name\u001b[39m\u001b[38;5;124m'\u001b[39m] \u001b[38;5;241m==\u001b[39m \u001b[38;5;124m'\u001b[39m\u001b[38;5;124mUnited States\u001b[39m\u001b[38;5;124m'\u001b[39m]\n",
      "File \u001b[1;32m~\\anaconda3\\Lib\\site-packages\\pandas\\core\\frame.py:4102\u001b[0m, in \u001b[0;36mDataFrame.__getitem__\u001b[1;34m(self, key)\u001b[0m\n\u001b[0;32m   4100\u001b[0m \u001b[38;5;28;01mif\u001b[39;00m \u001b[38;5;28mself\u001b[39m\u001b[38;5;241m.\u001b[39mcolumns\u001b[38;5;241m.\u001b[39mnlevels \u001b[38;5;241m>\u001b[39m \u001b[38;5;241m1\u001b[39m:\n\u001b[0;32m   4101\u001b[0m     \u001b[38;5;28;01mreturn\u001b[39;00m \u001b[38;5;28mself\u001b[39m\u001b[38;5;241m.\u001b[39m_getitem_multilevel(key)\n\u001b[1;32m-> 4102\u001b[0m indexer \u001b[38;5;241m=\u001b[39m \u001b[38;5;28mself\u001b[39m\u001b[38;5;241m.\u001b[39mcolumns\u001b[38;5;241m.\u001b[39mget_loc(key)\n\u001b[0;32m   4103\u001b[0m \u001b[38;5;28;01mif\u001b[39;00m is_integer(indexer):\n\u001b[0;32m   4104\u001b[0m     indexer \u001b[38;5;241m=\u001b[39m [indexer]\n",
      "File \u001b[1;32m~\\anaconda3\\Lib\\site-packages\\pandas\\core\\indexes\\base.py:3812\u001b[0m, in \u001b[0;36mIndex.get_loc\u001b[1;34m(self, key)\u001b[0m\n\u001b[0;32m   3807\u001b[0m     \u001b[38;5;28;01mif\u001b[39;00m \u001b[38;5;28misinstance\u001b[39m(casted_key, \u001b[38;5;28mslice\u001b[39m) \u001b[38;5;129;01mor\u001b[39;00m (\n\u001b[0;32m   3808\u001b[0m         \u001b[38;5;28misinstance\u001b[39m(casted_key, abc\u001b[38;5;241m.\u001b[39mIterable)\n\u001b[0;32m   3809\u001b[0m         \u001b[38;5;129;01mand\u001b[39;00m \u001b[38;5;28many\u001b[39m(\u001b[38;5;28misinstance\u001b[39m(x, \u001b[38;5;28mslice\u001b[39m) \u001b[38;5;28;01mfor\u001b[39;00m x \u001b[38;5;129;01min\u001b[39;00m casted_key)\n\u001b[0;32m   3810\u001b[0m     ):\n\u001b[0;32m   3811\u001b[0m         \u001b[38;5;28;01mraise\u001b[39;00m InvalidIndexError(key)\n\u001b[1;32m-> 3812\u001b[0m     \u001b[38;5;28;01mraise\u001b[39;00m \u001b[38;5;167;01mKeyError\u001b[39;00m(key) \u001b[38;5;28;01mfrom\u001b[39;00m \u001b[38;5;21;01merr\u001b[39;00m\n\u001b[0;32m   3813\u001b[0m \u001b[38;5;28;01mexcept\u001b[39;00m \u001b[38;5;167;01mTypeError\u001b[39;00m:\n\u001b[0;32m   3814\u001b[0m     \u001b[38;5;66;03m# If we have a listlike key, _check_indexing_error will raise\u001b[39;00m\n\u001b[0;32m   3815\u001b[0m     \u001b[38;5;66;03m#  InvalidIndexError. Otherwise we fall through and re-raise\u001b[39;00m\n\u001b[0;32m   3816\u001b[0m     \u001b[38;5;66;03m#  the TypeError.\u001b[39;00m\n\u001b[0;32m   3817\u001b[0m     \u001b[38;5;28mself\u001b[39m\u001b[38;5;241m.\u001b[39m_check_indexing_error(key)\n",
      "\u001b[1;31mKeyError\u001b[0m: 'country_name'"
     ]
    }
   ],
   "source": [
    "usa_data = df[df['country_name'] == 'United States']\n",
    "#I am choosing the general employment rate in the USA from this dataset, since this is the closest connection I could find to my student achievement project, which is about absenteeism rates."
   ]
  },
  {
   "cell_type": "code",
   "execution_count": 68,
   "id": "18f8cc4b-4c0f-486c-90bf-4f50aeb2ea24",
   "metadata": {},
   "outputs": [],
   "source": [
    "usa_data.to_csv('usa_data.csv', index=False)"
   ]
  },
  {
   "cell_type": "code",
   "execution_count": 76,
   "id": "1b267ac3-5b76-4b40-b31f-d53a3db2fa03",
   "metadata": {},
   "outputs": [
    {
     "data": {
      "text/html": [
       "<div>\n",
       "<style scoped>\n",
       "    .dataframe tbody tr th:only-of-type {\n",
       "        vertical-align: middle;\n",
       "    }\n",
       "\n",
       "    .dataframe tbody tr th {\n",
       "        vertical-align: top;\n",
       "    }\n",
       "\n",
       "    .dataframe thead th {\n",
       "        text-align: right;\n",
       "    }\n",
       "</style>\n",
       "<table border=\"1\" class=\"dataframe\">\n",
       "  <thead>\n",
       "    <tr style=\"text-align: right;\">\n",
       "      <th></th>\n",
       "      <th>series_id</th>\n",
       "      <th>country_code</th>\n",
       "      <th>country_name</th>\n",
       "      <th>year</th>\n",
       "      <th>value</th>\n",
       "    </tr>\n",
       "  </thead>\n",
       "  <tbody>\n",
       "    <tr>\n",
       "      <th>107</th>\n",
       "      <td>SP.POP.DPND</td>\n",
       "      <td>USA</td>\n",
       "      <td>United States</td>\n",
       "      <td>2003</td>\n",
       "      <td>49.858383</td>\n",
       "    </tr>\n",
       "    <tr>\n",
       "      <th>422</th>\n",
       "      <td>SP.POP.DPND</td>\n",
       "      <td>USA</td>\n",
       "      <td>United States</td>\n",
       "      <td>2004</td>\n",
       "      <td>49.522142</td>\n",
       "    </tr>\n",
       "    <tr>\n",
       "      <th>681</th>\n",
       "      <td>SP.POP.DPND</td>\n",
       "      <td>USA</td>\n",
       "      <td>United States</td>\n",
       "      <td>2005</td>\n",
       "      <td>49.189346</td>\n",
       "    </tr>\n",
       "    <tr>\n",
       "      <th>992</th>\n",
       "      <td>SP.POP.DPND</td>\n",
       "      <td>USA</td>\n",
       "      <td>United States</td>\n",
       "      <td>2006</td>\n",
       "      <td>48.901619</td>\n",
       "    </tr>\n",
       "    <tr>\n",
       "      <th>1308</th>\n",
       "      <td>SP.POP.DPND</td>\n",
       "      <td>USA</td>\n",
       "      <td>United States</td>\n",
       "      <td>2007</td>\n",
       "      <td>48.749792</td>\n",
       "    </tr>\n",
       "  </tbody>\n",
       "</table>\n",
       "</div>"
      ],
      "text/plain": [
       "        series_id country_code   country_name  year      value\n",
       "107   SP.POP.DPND          USA  United States  2003  49.858383\n",
       "422   SP.POP.DPND          USA  United States  2004  49.522142\n",
       "681   SP.POP.DPND          USA  United States  2005  49.189346\n",
       "992   SP.POP.DPND          USA  United States  2006  48.901619\n",
       "1308  SP.POP.DPND          USA  United States  2007  48.749792"
      ]
     },
     "execution_count": 76,
     "metadata": {},
     "output_type": "execute_result"
    }
   ],
   "source": [
    "usa_data.head()"
   ]
  },
  {
   "cell_type": "code",
   "execution_count": 80,
   "id": "83b80aee-51fb-4126-99d6-98ee9258e92d",
   "metadata": {},
   "outputs": [],
   "source": [
    "usa_data.set_index('year', inplace=True)"
   ]
  },
  {
   "cell_type": "code",
   "execution_count": 82,
   "id": "cefe0f8f-34e8-4797-8995-594d8aa502f1",
   "metadata": {},
   "outputs": [
    {
     "data": {
      "text/html": [
       "<div>\n",
       "<style scoped>\n",
       "    .dataframe tbody tr th:only-of-type {\n",
       "        vertical-align: middle;\n",
       "    }\n",
       "\n",
       "    .dataframe tbody tr th {\n",
       "        vertical-align: top;\n",
       "    }\n",
       "\n",
       "    .dataframe thead th {\n",
       "        text-align: right;\n",
       "    }\n",
       "</style>\n",
       "<table border=\"1\" class=\"dataframe\">\n",
       "  <thead>\n",
       "    <tr style=\"text-align: right;\">\n",
       "      <th></th>\n",
       "      <th>series_id</th>\n",
       "      <th>country_code</th>\n",
       "      <th>country_name</th>\n",
       "      <th>value</th>\n",
       "    </tr>\n",
       "    <tr>\n",
       "      <th>year</th>\n",
       "      <th></th>\n",
       "      <th></th>\n",
       "      <th></th>\n",
       "      <th></th>\n",
       "    </tr>\n",
       "  </thead>\n",
       "  <tbody>\n",
       "    <tr>\n",
       "      <th>2003</th>\n",
       "      <td>SP.POP.DPND</td>\n",
       "      <td>USA</td>\n",
       "      <td>United States</td>\n",
       "      <td>49.858383</td>\n",
       "    </tr>\n",
       "    <tr>\n",
       "      <th>2004</th>\n",
       "      <td>SP.POP.DPND</td>\n",
       "      <td>USA</td>\n",
       "      <td>United States</td>\n",
       "      <td>49.522142</td>\n",
       "    </tr>\n",
       "    <tr>\n",
       "      <th>2005</th>\n",
       "      <td>SP.POP.DPND</td>\n",
       "      <td>USA</td>\n",
       "      <td>United States</td>\n",
       "      <td>49.189346</td>\n",
       "    </tr>\n",
       "    <tr>\n",
       "      <th>2006</th>\n",
       "      <td>SP.POP.DPND</td>\n",
       "      <td>USA</td>\n",
       "      <td>United States</td>\n",
       "      <td>48.901619</td>\n",
       "    </tr>\n",
       "    <tr>\n",
       "      <th>2007</th>\n",
       "      <td>SP.POP.DPND</td>\n",
       "      <td>USA</td>\n",
       "      <td>United States</td>\n",
       "      <td>48.749792</td>\n",
       "    </tr>\n",
       "  </tbody>\n",
       "</table>\n",
       "</div>"
      ],
      "text/plain": [
       "        series_id country_code   country_name      value\n",
       "year                                                    \n",
       "2003  SP.POP.DPND          USA  United States  49.858383\n",
       "2004  SP.POP.DPND          USA  United States  49.522142\n",
       "2005  SP.POP.DPND          USA  United States  49.189346\n",
       "2006  SP.POP.DPND          USA  United States  48.901619\n",
       "2007  SP.POP.DPND          USA  United States  48.749792"
      ]
     },
     "execution_count": 82,
     "metadata": {},
     "output_type": "execute_result"
    }
   ],
   "source": [
    "usa_data.head()"
   ]
  },
  {
   "cell_type": "code",
   "execution_count": 94,
   "id": "33ccdda1-4b1c-4e58-8c1d-75d7ea771748",
   "metadata": {},
   "outputs": [
    {
     "name": "stdout",
     "output_type": "stream",
     "text": [
      "\n",
      "Updated DataFrame with datetime index:\n",
      "                 series_id country_code   country_name      value\n",
      "year                                                             \n",
      "2003-01-01     SP.POP.DPND          USA  United States  49.858383\n",
      "2004-01-01     SP.POP.DPND          USA  United States  49.522142\n",
      "2005-01-01     SP.POP.DPND          USA  United States  49.189346\n",
      "2006-01-01     SP.POP.DPND          USA  United States  48.901619\n",
      "2007-01-01     SP.POP.DPND          USA  United States  48.749792\n",
      "...                    ...          ...            ...        ...\n",
      "1984-01-01  GC.TAX.YPKG.ZS          USA  United States  86.670242\n",
      "1985-01-01  GC.TAX.YPKG.ZS          USA  United States  87.910868\n",
      "1986-01-01  GC.TAX.YPKG.ZS          USA  United States  88.586898\n",
      "1987-01-01  GC.TAX.YPKG.ZS          USA  United States  89.678135\n",
      "1988-01-01  GC.TAX.YPKG.ZS          USA  United States  89.330450\n",
      "\n",
      "[43490 rows x 4 columns]\n"
     ]
    }
   ],
   "source": [
    "usa_data.index = pd.to_datetime(usa_data.index.astype(str) + '-01-01')\n",
    "\n",
    "# Display the updated DataFrame\n",
    "print(\"\\nUpdated DataFrame with datetime index:\")\n",
    "print(usa_data)"
   ]
  },
  {
   "cell_type": "code",
   "execution_count": 102,
   "id": "16cc9390-9b15-4695-9336-7b4b3e4ed96a",
   "metadata": {},
   "outputs": [
    {
     "data": {
      "text/plain": [
       "Index(['series_id', 'country_code', 'country_name', 'year', 'value'], dtype='object')"
      ]
     },
     "execution_count": 102,
     "metadata": {},
     "output_type": "execute_result"
    }
   ],
   "source": [
    "data.columns"
   ]
  },
  {
   "cell_type": "code",
   "execution_count": 206,
   "id": "3d407e0a-d298-47e1-a465-4b04212952c6",
   "metadata": {},
   "outputs": [],
   "source": [
    "filtered_data = usa_data[usa_data['series_id'] == 'SP.POP.DPND']\n",
    "# filtering the data specifically for the value regarding employment rate"
   ]
  },
  {
   "cell_type": "code",
   "execution_count": 172,
   "id": "4e6bb0e8-293d-4150-a0e5-11432ea6013a",
   "metadata": {},
   "outputs": [],
   "source": [
    "df = filtered_data.drop(['series_id','country_code','country_name'], axis=1)"
   ]
  },
  {
   "cell_type": "code",
   "execution_count": 174,
   "id": "e18f2b86-19ef-422f-bf3a-bd4f5bc57145",
   "metadata": {},
   "outputs": [
    {
     "data": {
      "text/plain": [
       "<bound method NDFrame.head of                 value\n",
       "year                 \n",
       "2003-01-01  49.858383\n",
       "2004-01-01  49.522142\n",
       "2005-01-01  49.189346\n",
       "2006-01-01  48.901619\n",
       "2007-01-01  48.749792\n",
       "...               ...\n",
       "1999-01-01  51.335564\n",
       "2001-01-01  50.562259\n",
       "1960-01-01  66.793151\n",
       "2000-01-01  50.927526\n",
       "2002-01-01  50.211935\n",
       "\n",
       "[64 rows x 1 columns]>"
      ]
     },
     "execution_count": 174,
     "metadata": {},
     "output_type": "execute_result"
    }
   ],
   "source": [
    "df.head"
   ]
  },
  {
   "cell_type": "code",
   "execution_count": 176,
   "id": "9b71427a-3af7-4e1e-950c-77c388ec22fc",
   "metadata": {},
   "outputs": [
    {
     "data": {
      "text/plain": [
       "Index(['value'], dtype='object')"
      ]
     },
     "execution_count": 176,
     "metadata": {},
     "output_type": "execute_result"
    }
   ],
   "source": [
    "df.columns"
   ]
  },
  {
   "cell_type": "code",
   "execution_count": 178,
   "id": "1d40e72f-3864-4d2c-a66a-232617c321ec",
   "metadata": {},
   "outputs": [
    {
     "data": {
      "text/plain": [
       "pandas.core.frame.DataFrame"
      ]
     },
     "execution_count": 178,
     "metadata": {},
     "output_type": "execute_result"
    }
   ],
   "source": [
    "type(data)"
   ]
  },
  {
   "cell_type": "code",
   "execution_count": 180,
   "id": "b5ca78d9-f81e-4bf0-9a9b-6a06c63a82d3",
   "metadata": {},
   "outputs": [
    {
     "name": "stdout",
     "output_type": "stream",
     "text": [
      "                value\n",
      "year                 \n",
      "2003-01-01  49.858383\n",
      "2004-01-01  49.522142\n",
      "2005-01-01  49.189346\n",
      "2006-01-01  48.901619\n",
      "2007-01-01  48.749792\n",
      "...               ...\n",
      "1999-01-01  51.335564\n",
      "2001-01-01  50.562259\n",
      "1960-01-01  66.793151\n",
      "2000-01-01  50.927526\n",
      "2002-01-01  50.211935\n",
      "\n",
      "[64 rows x 1 columns]\n"
     ]
    }
   ],
   "source": [
    "print(df.head(1000))"
   ]
  },
  {
   "cell_type": "code",
   "execution_count": 182,
   "id": "f6ec00b3-4530-4430-940a-43270697d291",
   "metadata": {},
   "outputs": [
    {
     "name": "stdout",
     "output_type": "stream",
     "text": [
      "value    0\n",
      "dtype: int64\n"
     ]
    }
   ],
   "source": [
    "print(df.isnull().sum())\n"
   ]
  },
  {
   "cell_type": "code",
   "execution_count": 184,
   "id": "c9e890ed-8484-4d9a-9dfe-bf6764b804cd",
   "metadata": {},
   "outputs": [],
   "source": [
    "data_2 = df.reset_index()"
   ]
  },
  {
   "cell_type": "code",
   "execution_count": 186,
   "id": "e647fe9d-4364-4748-97fb-7195de14a68b",
   "metadata": {},
   "outputs": [
    {
     "data": {
      "text/html": [
       "<div>\n",
       "<style scoped>\n",
       "    .dataframe tbody tr th:only-of-type {\n",
       "        vertical-align: middle;\n",
       "    }\n",
       "\n",
       "    .dataframe tbody tr th {\n",
       "        vertical-align: top;\n",
       "    }\n",
       "\n",
       "    .dataframe thead th {\n",
       "        text-align: right;\n",
       "    }\n",
       "</style>\n",
       "<table border=\"1\" class=\"dataframe\">\n",
       "  <thead>\n",
       "    <tr style=\"text-align: right;\">\n",
       "      <th></th>\n",
       "      <th>year</th>\n",
       "      <th>value</th>\n",
       "    </tr>\n",
       "  </thead>\n",
       "  <tbody>\n",
       "    <tr>\n",
       "      <th>0</th>\n",
       "      <td>2003-01-01</td>\n",
       "      <td>49.858383</td>\n",
       "    </tr>\n",
       "    <tr>\n",
       "      <th>1</th>\n",
       "      <td>2004-01-01</td>\n",
       "      <td>49.522142</td>\n",
       "    </tr>\n",
       "    <tr>\n",
       "      <th>2</th>\n",
       "      <td>2005-01-01</td>\n",
       "      <td>49.189346</td>\n",
       "    </tr>\n",
       "    <tr>\n",
       "      <th>3</th>\n",
       "      <td>2006-01-01</td>\n",
       "      <td>48.901619</td>\n",
       "    </tr>\n",
       "    <tr>\n",
       "      <th>4</th>\n",
       "      <td>2007-01-01</td>\n",
       "      <td>48.749792</td>\n",
       "    </tr>\n",
       "  </tbody>\n",
       "</table>\n",
       "</div>"
      ],
      "text/plain": [
       "        year      value\n",
       "0 2003-01-01  49.858383\n",
       "1 2004-01-01  49.522142\n",
       "2 2005-01-01  49.189346\n",
       "3 2006-01-01  48.901619\n",
       "4 2007-01-01  48.749792"
      ]
     },
     "execution_count": 186,
     "metadata": {},
     "output_type": "execute_result"
    }
   ],
   "source": [
    "data_2.head()"
   ]
  },
  {
   "cell_type": "markdown",
   "id": "4c294c50-6220-4665-a383-13d717d76e44",
   "metadata": {},
   "source": [
    "I filtered the data for the last 20 years because I thought it could be interesting to look at the trend in the last 20 years. It is a bit of an arbitrary choice, if I am being honest."
   ]
  },
  {
   "cell_type": "code",
   "execution_count": 224,
   "id": "2211dd3a-3dc1-43f9-a257-261be14aee50",
   "metadata": {},
   "outputs": [],
   "source": [
    "data_sub = data_2.loc[(data_2['year'] >= '2004-01-01') & (data_2['year'] < '2024-01-01')]"
   ]
  },
  {
   "cell_type": "code",
   "execution_count": 242,
   "id": "8f337c5c-9d0f-4cab-951c-e35b4ae76187",
   "metadata": {},
   "outputs": [
    {
     "data": {
      "text/plain": [
       "(20, 1)"
      ]
     },
     "execution_count": 242,
     "metadata": {},
     "output_type": "execute_result"
    }
   ],
   "source": [
    "data_sub.shape"
   ]
  },
  {
   "cell_type": "code",
   "execution_count": 246,
   "id": "ebe77c9a-88c7-4972-b5e1-22cf7aa97263",
   "metadata": {},
   "outputs": [
    {
     "ename": "KeyError",
     "evalue": "'year'",
     "output_type": "error",
     "traceback": [
      "\u001b[1;31m---------------------------------------------------------------------------\u001b[0m",
      "\u001b[1;31mKeyError\u001b[0m                                  Traceback (most recent call last)",
      "File \u001b[1;32m~\\anaconda3\\Lib\\site-packages\\pandas\\core\\indexes\\base.py:3805\u001b[0m, in \u001b[0;36mIndex.get_loc\u001b[1;34m(self, key)\u001b[0m\n\u001b[0;32m   3804\u001b[0m \u001b[38;5;28;01mtry\u001b[39;00m:\n\u001b[1;32m-> 3805\u001b[0m     \u001b[38;5;28;01mreturn\u001b[39;00m \u001b[38;5;28mself\u001b[39m\u001b[38;5;241m.\u001b[39m_engine\u001b[38;5;241m.\u001b[39mget_loc(casted_key)\n\u001b[0;32m   3806\u001b[0m \u001b[38;5;28;01mexcept\u001b[39;00m \u001b[38;5;167;01mKeyError\u001b[39;00m \u001b[38;5;28;01mas\u001b[39;00m err:\n",
      "File \u001b[1;32mindex.pyx:167\u001b[0m, in \u001b[0;36mpandas._libs.index.IndexEngine.get_loc\u001b[1;34m()\u001b[0m\n",
      "File \u001b[1;32mindex.pyx:196\u001b[0m, in \u001b[0;36mpandas._libs.index.IndexEngine.get_loc\u001b[1;34m()\u001b[0m\n",
      "File \u001b[1;32mpandas\\\\_libs\\\\hashtable_class_helper.pxi:7081\u001b[0m, in \u001b[0;36mpandas._libs.hashtable.PyObjectHashTable.get_item\u001b[1;34m()\u001b[0m\n",
      "File \u001b[1;32mpandas\\\\_libs\\\\hashtable_class_helper.pxi:7089\u001b[0m, in \u001b[0;36mpandas._libs.hashtable.PyObjectHashTable.get_item\u001b[1;34m()\u001b[0m\n",
      "\u001b[1;31mKeyError\u001b[0m: 'year'",
      "\nThe above exception was the direct cause of the following exception:\n",
      "\u001b[1;31mKeyError\u001b[0m                                  Traceback (most recent call last)",
      "Cell \u001b[1;32mIn[246], line 5\u001b[0m\n\u001b[0;32m      1\u001b[0m \u001b[38;5;66;03m# Set the \"Date\" column as the index\u001b[39;00m\n\u001b[0;32m      3\u001b[0m \u001b[38;5;28;01mfrom\u001b[39;00m \u001b[38;5;21;01mdatetime\u001b[39;00m \u001b[38;5;28;01mimport\u001b[39;00m datetime\n\u001b[1;32m----> 5\u001b[0m data_sub[\u001b[38;5;124m'\u001b[39m\u001b[38;5;124mdatetime\u001b[39m\u001b[38;5;124m'\u001b[39m] \u001b[38;5;241m=\u001b[39m pd\u001b[38;5;241m.\u001b[39mto_datetime(data_sub[\u001b[38;5;124m'\u001b[39m\u001b[38;5;124myear\u001b[39m\u001b[38;5;124m'\u001b[39m]) \u001b[38;5;66;03m# Create a datetime column from \"Year.\"\"\u001b[39;00m\n\u001b[0;32m      6\u001b[0m data_sub \u001b[38;5;241m=\u001b[39m data_sub\u001b[38;5;241m.\u001b[39mset_index(\u001b[38;5;124m'\u001b[39m\u001b[38;5;124mdatetime\u001b[39m\u001b[38;5;124m'\u001b[39m) \u001b[38;5;66;03m# Set the datetime as the index of the dataframe.\u001b[39;00m\n\u001b[0;32m      7\u001b[0m data_sub\u001b[38;5;241m.\u001b[39mdrop([\u001b[38;5;124m'\u001b[39m\u001b[38;5;124myear\u001b[39m\u001b[38;5;124m'\u001b[39m], axis\u001b[38;5;241m=\u001b[39m\u001b[38;5;241m1\u001b[39m, inplace\u001b[38;5;241m=\u001b[39m\u001b[38;5;28;01mTrue\u001b[39;00m) \u001b[38;5;66;03m# Drop the \"Date\" column.\u001b[39;00m\n",
      "File \u001b[1;32m~\\anaconda3\\Lib\\site-packages\\pandas\\core\\frame.py:4102\u001b[0m, in \u001b[0;36mDataFrame.__getitem__\u001b[1;34m(self, key)\u001b[0m\n\u001b[0;32m   4100\u001b[0m \u001b[38;5;28;01mif\u001b[39;00m \u001b[38;5;28mself\u001b[39m\u001b[38;5;241m.\u001b[39mcolumns\u001b[38;5;241m.\u001b[39mnlevels \u001b[38;5;241m>\u001b[39m \u001b[38;5;241m1\u001b[39m:\n\u001b[0;32m   4101\u001b[0m     \u001b[38;5;28;01mreturn\u001b[39;00m \u001b[38;5;28mself\u001b[39m\u001b[38;5;241m.\u001b[39m_getitem_multilevel(key)\n\u001b[1;32m-> 4102\u001b[0m indexer \u001b[38;5;241m=\u001b[39m \u001b[38;5;28mself\u001b[39m\u001b[38;5;241m.\u001b[39mcolumns\u001b[38;5;241m.\u001b[39mget_loc(key)\n\u001b[0;32m   4103\u001b[0m \u001b[38;5;28;01mif\u001b[39;00m is_integer(indexer):\n\u001b[0;32m   4104\u001b[0m     indexer \u001b[38;5;241m=\u001b[39m [indexer]\n",
      "File \u001b[1;32m~\\anaconda3\\Lib\\site-packages\\pandas\\core\\indexes\\base.py:3812\u001b[0m, in \u001b[0;36mIndex.get_loc\u001b[1;34m(self, key)\u001b[0m\n\u001b[0;32m   3807\u001b[0m     \u001b[38;5;28;01mif\u001b[39;00m \u001b[38;5;28misinstance\u001b[39m(casted_key, \u001b[38;5;28mslice\u001b[39m) \u001b[38;5;129;01mor\u001b[39;00m (\n\u001b[0;32m   3808\u001b[0m         \u001b[38;5;28misinstance\u001b[39m(casted_key, abc\u001b[38;5;241m.\u001b[39mIterable)\n\u001b[0;32m   3809\u001b[0m         \u001b[38;5;129;01mand\u001b[39;00m \u001b[38;5;28many\u001b[39m(\u001b[38;5;28misinstance\u001b[39m(x, \u001b[38;5;28mslice\u001b[39m) \u001b[38;5;28;01mfor\u001b[39;00m x \u001b[38;5;129;01min\u001b[39;00m casted_key)\n\u001b[0;32m   3810\u001b[0m     ):\n\u001b[0;32m   3811\u001b[0m         \u001b[38;5;28;01mraise\u001b[39;00m InvalidIndexError(key)\n\u001b[1;32m-> 3812\u001b[0m     \u001b[38;5;28;01mraise\u001b[39;00m \u001b[38;5;167;01mKeyError\u001b[39;00m(key) \u001b[38;5;28;01mfrom\u001b[39;00m \u001b[38;5;21;01merr\u001b[39;00m\n\u001b[0;32m   3813\u001b[0m \u001b[38;5;28;01mexcept\u001b[39;00m \u001b[38;5;167;01mTypeError\u001b[39;00m:\n\u001b[0;32m   3814\u001b[0m     \u001b[38;5;66;03m# If we have a listlike key, _check_indexing_error will raise\u001b[39;00m\n\u001b[0;32m   3815\u001b[0m     \u001b[38;5;66;03m#  InvalidIndexError. Otherwise we fall through and re-raise\u001b[39;00m\n\u001b[0;32m   3816\u001b[0m     \u001b[38;5;66;03m#  the TypeError.\u001b[39;00m\n\u001b[0;32m   3817\u001b[0m     \u001b[38;5;28mself\u001b[39m\u001b[38;5;241m.\u001b[39m_check_indexing_error(key)\n",
      "\u001b[1;31mKeyError\u001b[0m: 'year'"
     ]
    }
   ],
   "source": [
    "# Set the \"Date\" column as the index\n",
    "\n",
    "from datetime import datetime\n",
    "\n",
    "data_sub['datetime'] = pd.to_datetime(data_sub['year']) # Create a datetime column from \"Year.\"\"\n",
    "data_sub = data_sub.set_index('datetime') # Set the datetime as the index of the dataframe.\n",
    "data_sub.drop(['year'], axis=1, inplace=True) # Drop the \"Date\" column.\n",
    "data_sub.head()"
   ]
  },
  {
   "cell_type": "code",
   "execution_count": 230,
   "id": "4678e60a-6516-4edc-be96-73d8d103d947",
   "metadata": {},
   "outputs": [
    {
     "data": {
      "text/plain": [
       "[<matplotlib.lines.Line2D at 0x22f488509e0>]"
      ]
     },
     "execution_count": 230,
     "metadata": {},
     "output_type": "execute_result"
    },
    {
     "data": {
      "image/png": "[encoded data removed]",
      "text/plain": [
       "<Figure size 1500x500 with 1 Axes>"
      ]
     },
     "metadata": {},
     "output_type": "display_data"
    }
   ],
   "source": [
    "# Plot the new data set\n",
    "\n",
    "plt.figure(figsize=(15,5), dpi=100)\n",
    "plt.plot(data_sub)"
   ]
  },
  {
   "cell_type": "code",
   "execution_count": 275,
   "id": "8e6f333e-c7f8-4ff4-a426-7f9d0d41bb8e",
   "metadata": {},
   "outputs": [
    {
     "data": {
      "text/plain": [
       "value    0\n",
       "dtype: int64"
      ]
     },
     "execution_count": 275,
     "metadata": {},
     "output_type": "execute_result"
    }
   ],
   "source": [
    "# Check for missing values \n",
    "\n",
    "data_sub.isnull().sum()"
   ]
  },
  {
   "cell_type": "code",
   "execution_count": 277,
   "id": "4fa1b576-b086-4fc9-8487-979816289d91",
   "metadata": {},
   "outputs": [
    {
     "data": {
      "text/plain": [
       "0"
      ]
     },
     "execution_count": 277,
     "metadata": {},
     "output_type": "execute_result"
    }
   ],
   "source": [
    "# Check for duplicates\n",
    "\n",
    "dups = data_sub.duplicated()\n",
    "dups.sum()\n",
    "\n",
    "# No dups!"
   ]
  },
  {
   "cell_type": "code",
   "execution_count": 236,
   "id": "6a943f8f-8be4-43a0-8b29-6b03ef1ad0f1",
   "metadata": {},
   "outputs": [],
   "source": [
    "# Decompose the time series using an additive model\n",
    "\n",
    "decomposition = sm.tsa.seasonal_decompose(data_sub, model='additive')"
   ]
  },
  {
   "cell_type": "code",
   "execution_count": 238,
   "id": "6030222b-3ea9-4db1-a594-988720f8541a",
   "metadata": {},
   "outputs": [],
   "source": [
    "from pylab import rcParams # This will define a fixed size for all special charts.\n",
    "\n",
    "rcParams['figure.figsize'] = 18, 7"
   ]
  },
  {
   "cell_type": "code",
   "execution_count": 222,
   "id": "401f5a9b-dce8-4a25-83f3-b79c9f49a0da",
   "metadata": {},
   "outputs": [
    {
     "data": {
      "image/png": "[encoded data removed]",
      "text/plain": [
       "<Figure size 1800x700 with 4 Axes>"
      ]
     },
     "metadata": {},
     "output_type": "display_data"
    }
   ],
   "source": [
    "# Plot the separate components\n",
    "\n",
    "decomposition.plot()\n",
    "plt.show()"
   ]
  },
  {
   "cell_type": "markdown",
   "id": "85aeb6cb-8c91-4524-ae88-db85e856b4d0",
   "metadata": {},
   "source": [
    "There is no seasonality and no noise, but there is a slight upwards trend, which is indicative of non-stationary data."
   ]
  },
  {
   "cell_type": "code",
   "execution_count": 250,
   "id": "7caf79c4-471a-4369-a2cc-b0692bfab510",
   "metadata": {},
   "outputs": [
    {
     "name": "stdout",
     "output_type": "stream",
     "text": [
      "Dickey-Fuller Stationarity test:\n",
      "Test Statistic                  0.721518\n",
      "p-value                         0.990258\n",
      "Number of Lags Used             8.000000\n",
      "Number of Observations Used    11.000000\n",
      "Critical Value (1%)            -4.223238\n",
      "Critical Value (5%)            -3.189369\n",
      "Critical Value (10%)           -2.729839\n",
      "dtype: float64\n"
     ]
    }
   ],
   "source": [
    "# The adfuller() function will import from the model from statsmodels for the test; however, running it will only return \n",
    "# an array of numbers. This is why you need to also define a function that prints the correct output from that array.\n",
    "\n",
    "from statsmodels.tsa.stattools import adfuller # Import the adfuller() function\n",
    "\n",
    "def dickey_fuller(timeseries): # Define the function\n",
    "    # Perform the Dickey-Fuller test:\n",
    "    print ('Dickey-Fuller Stationarity test:')\n",
    "    test = adfuller(timeseries, autolag='AIC')\n",
    "    result = pd.Series(test[0:4], index=['Test Statistic','p-value','Number of Lags Used','Number of Observations Used'])\n",
    "    for key,value in test[4].items():\n",
    "       result['Critical Value (%s)'%key] = value\n",
    "    print (result)\n",
    "\n",
    "# Apply the test using the function on the time series\n",
    "dickey_fuller(data_sub['value'])"
   ]
  },
  {
   "cell_type": "markdown",
   "id": "ca1aa033-73d8-437a-92b5-5cc3d8587f32",
   "metadata": {},
   "source": [
    "Test statistic larger than critical value = can’t reject null hypothesis\n",
    "Test statistic smaller than critical value = can reject null hypothesis\n",
    "\n",
    "My null hypothesis is the presence of a unit root, which is any random jump that can’t be explained by variation in the data—in other words, a jump that’s not constant.\n",
    "\n",
    "The test statistic here is much bigger than any critical values and my data also has a trend, which shows me that it is non-stationary."
   ]
  },
  {
   "cell_type": "code",
   "execution_count": 253,
   "id": "19774fbe-03ca-4658-89e7-774ac095f1e8",
   "metadata": {},
   "outputs": [],
   "source": [
    "data_diff = data_sub - data_sub.shift(1) # The df.shift(1) function turns the observation to t-1, making the whole thing t - (t -1)"
   ]
  },
  {
   "cell_type": "code",
   "execution_count": 255,
   "id": "5ff9cb83-ac7e-49bf-aa46-0620b7147fa9",
   "metadata": {},
   "outputs": [],
   "source": [
    "data_diff.dropna(inplace = True) # Here, you remove the missing values that came about as a result of the differencing. \n",
    "# You need to remove these or you won't be able to run the Dickey-Fuller test."
   ]
  },
  {
   "cell_type": "code",
   "execution_count": 257,
   "id": "70bef021-b794-4552-b339-63e2c4565794",
   "metadata": {},
   "outputs": [
    {
     "data": {
      "text/html": [
       "<div>\n",
       "<style scoped>\n",
       "    .dataframe tbody tr th:only-of-type {\n",
       "        vertical-align: middle;\n",
       "    }\n",
       "\n",
       "    .dataframe tbody tr th {\n",
       "        vertical-align: top;\n",
       "    }\n",
       "\n",
       "    .dataframe thead th {\n",
       "        text-align: right;\n",
       "    }\n",
       "</style>\n",
       "<table border=\"1\" class=\"dataframe\">\n",
       "  <thead>\n",
       "    <tr style=\"text-align: right;\">\n",
       "      <th></th>\n",
       "      <th>value</th>\n",
       "    </tr>\n",
       "    <tr>\n",
       "      <th>datetime</th>\n",
       "      <th></th>\n",
       "    </tr>\n",
       "  </thead>\n",
       "  <tbody>\n",
       "    <tr>\n",
       "      <th>2005-01-01</th>\n",
       "      <td>-0.332796</td>\n",
       "    </tr>\n",
       "    <tr>\n",
       "      <th>2006-01-01</th>\n",
       "      <td>-0.287727</td>\n",
       "    </tr>\n",
       "    <tr>\n",
       "      <th>2007-01-01</th>\n",
       "      <td>-0.151827</td>\n",
       "    </tr>\n",
       "    <tr>\n",
       "      <th>2008-01-01</th>\n",
       "      <td>0.074279</td>\n",
       "    </tr>\n",
       "    <tr>\n",
       "      <th>2009-01-01</th>\n",
       "      <td>0.125211</td>\n",
       "    </tr>\n",
       "  </tbody>\n",
       "</table>\n",
       "</div>"
      ],
      "text/plain": [
       "               value\n",
       "datetime            \n",
       "2005-01-01 -0.332796\n",
       "2006-01-01 -0.287727\n",
       "2007-01-01 -0.151827\n",
       "2008-01-01  0.074279\n",
       "2009-01-01  0.125211"
      ]
     },
     "execution_count": 257,
     "metadata": {},
     "output_type": "execute_result"
    }
   ],
   "source": [
    "data_diff.head()"
   ]
  },
  {
   "cell_type": "code",
   "execution_count": 259,
   "id": "440e5e62-ca08-4c16-a23b-296bec2b54c3",
   "metadata": {},
   "outputs": [
    {
     "data": {
      "text/plain": [
       "[<matplotlib.lines.Line2D at 0x22f45451400>]"
      ]
     },
     "execution_count": 259,
     "metadata": {},
     "output_type": "execute_result"
    },
    {
     "data": {
      "image/png": "[encoded data removed]",
      "text/plain": [
       "<Figure size 1500x500 with 1 Axes>"
      ]
     },
     "metadata": {},
     "output_type": "display_data"
    }
   ],
   "source": [
    "# Check out what the differencing did to the time-series curve\n",
    "\n",
    "plt.figure(figsize=(15,5), dpi=100)\n",
    "plt.plot(data_diff)"
   ]
  },
  {
   "cell_type": "code",
   "execution_count": 261,
   "id": "ef838e42-fee3-4f65-a09d-cfc6b2dd0b29",
   "metadata": {},
   "outputs": [
    {
     "name": "stdout",
     "output_type": "stream",
     "text": [
      "Dickey-Fuller Stationarity test:\n",
      "Test Statistic                 -3.058235\n",
      "p-value                         0.029802\n",
      "Number of Lags Used             7.000000\n",
      "Number of Observations Used    11.000000\n",
      "Critical Value (1%)            -4.223238\n",
      "Critical Value (5%)            -3.189369\n",
      "Critical Value (10%)           -2.729839\n",
      "dtype: float64\n"
     ]
    }
   ],
   "source": [
    "dickey_fuller(data_diff)"
   ]
  },
  {
   "cell_type": "markdown",
   "id": "a7d14202-0d53-4db4-9427-6ef09b868804",
   "metadata": {},
   "source": [
    "With the test statistics being smaller than critical value at 10%, and the p-value being smaller than 0.05, we can say that now the data is stationary!"
   ]
  },
  {
   "cell_type": "code",
   "execution_count": 266,
   "id": "c75a9524-c4b0-4ba5-8fa9-7fdb3affea49",
   "metadata": {},
   "outputs": [
    {
     "data": {
      "image/png": "[encoded data removed]",
      "text/plain": [
       "<Figure size 1800x700 with 1 Axes>"
      ]
     },
     "metadata": {},
     "output_type": "display_data"
    }
   ],
   "source": [
    "from statsmodels.graphics.tsaplots import plot_acf, plot_pacf # Here, you import the autocorrelation and partial correlation plots\n",
    "\n",
    "plot_acf(data_diff)\n",
    "plt.show()\n",
    "\n",
    "# Check for autocorrelation"
   ]
  },
  {
   "cell_type": "markdown",
   "id": "80cd86c4-da2f-430c-88fb-436f0555851c",
   "metadata": {},
   "source": [
    "I don't have so many lags that go beyond the confidence interval, so the data is now surely stationary!"
   ]
  },
  {
   "cell_type": "code",
   "execution_count": null,
   "id": "9daf96a4-c154-4f94-ad64-43302081b7a2",
   "metadata": {},
   "outputs": [],
   "source": []
  }
 ],
 "metadata": {
  "kernelspec": {
   "display_name": "Python 3 (ipykernel)",
   "language": "python",
   "name": "python3"
  },
  "language_info": {
   "codemirror_mode": {
    "name": "ipython",
    "version": 3
   },
   "file_extension": ".py",
   "mimetype": "text/x-python",
   "name": "python",
   "nbconvert_exporter": "python",
   "pygments_lexer": "ipython3",
   "version": "3.12.4"
  }
 },
 "nbformat": 4,
 "nbformat_minor": 5
}
